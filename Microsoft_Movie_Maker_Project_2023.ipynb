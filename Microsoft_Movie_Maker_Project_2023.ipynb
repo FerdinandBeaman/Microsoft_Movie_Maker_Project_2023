{
 "cells": [
  {
   "cell_type": "markdown",
   "metadata": {},
   "source": [
    "# Microsoft Movie Maker Project\n",
    "By Ferdinand Beaman\n",
    "* Student pace: part time\n",
    "* Scheduled project review date/time: May 3rd, 2023\n",
    "* Instructor name: Mark Barbour\n",
    "* Blog post URL: TBD\n"
   ]
  },
  {
   "cell_type": "markdown",
   "metadata": {},
   "source": [
    "## Project Goal\n",
    "\n",
    "This project is here to inform Microsoft of what factors will help their first (hypothetical) movie be a success. And by \"success\", I mean \"generate the most profits\"."
   ]
  },
  {
   "cell_type": "markdown",
   "metadata": {},
   "source": [
    "### Data Source and Exploration\n",
    "The data I used came primarily from [imdb.com](https://www.imdb.com/) and [the-numbers.com](https://www.the-numbers.com/). These websites have information about:\n",
    "* titles, both domestic and international\n",
    "* release dates\n",
    "* cast and crew\n",
    "* budgets\n",
    "* Ticket sales, both domestic and international"
   ]
  },
  {
   "cell_type": "code",
   "execution_count": 1,
   "metadata": {
    "ExecuteTime": {
     "end_time": "2023-05-02T19:35:40.502026Z",
     "start_time": "2023-05-02T19:35:39.641155Z"
    }
   },
   "outputs": [],
   "source": [
    "#Importing the necessary libraries to find, analyze, and display the data.\n",
    "\n",
    "import pandas as pd\n",
    "import numpy as np\n",
    "import matplotlib.pyplot as plt\n",
    "import seaborn as sns\n",
    "import sqlite3\n",
    "import os\n",
    "from glob import glob\n",
    "from zipfile import ZipFile"
   ]
  },
  {
   "cell_type": "code",
   "execution_count": 2,
   "metadata": {
    "ExecuteTime": {
     "end_time": "2023-05-02T19:35:40.505401Z",
     "start_time": "2023-05-02T19:35:40.503125Z"
    }
   },
   "outputs": [],
   "source": [
    "#Grabbing the CSV data\n",
    "csv_files = glob(\"./zippedData/*.csv.gz\")\n",
    "\n",
    "csv_files_dict = {}\n",
    "for filename in csv_files:\n",
    "        filename_cleaned = os.path.basename(filename).replace(\n",
    "            \".csv\", \"\").replace(\".\", \"_\")\n",
    "        filename_df = pd.read_csv(filename, index_col=0)\n",
    "        csv_files_dict[filename_cleaned] = filename_df"
   ]
  },
  {
   "cell_type": "code",
   "execution_count": 3,
   "metadata": {
    "ExecuteTime": {
     "end_time": "2023-05-02T19:35:40.623138Z",
     "start_time": "2023-05-02T19:35:40.506649Z"
    }
   },
   "outputs": [
    {
     "ename": "FileNotFoundError",
     "evalue": "[Errno 2] No such file or directory: './ZippedData/im.db.zip'",
     "output_type": "error",
     "traceback": [
      "\u001b[0;31m---------------------------------------------------------------------------\u001b[0m",
      "\u001b[0;31mFileNotFoundError\u001b[0m                         Traceback (most recent call last)",
      "\u001b[0;32m<ipython-input-3-5d741a969a77>\u001b[0m in \u001b[0;36m<module>\u001b[0;34m\u001b[0m\n\u001b[1;32m      2\u001b[0m \u001b[0;34m\u001b[0m\u001b[0m\n\u001b[1;32m      3\u001b[0m \u001b[0mfile_name\u001b[0m \u001b[0;34m=\u001b[0m \u001b[0;34m\"./ZippedData/im.db.zip\"\u001b[0m\u001b[0;34m\u001b[0m\u001b[0;34m\u001b[0m\u001b[0m\n\u001b[0;32m----> 4\u001b[0;31m \u001b[0;32mwith\u001b[0m \u001b[0mZipFile\u001b[0m\u001b[0;34m(\u001b[0m\u001b[0mfile_name\u001b[0m\u001b[0;34m,\u001b[0m \u001b[0;34m'r'\u001b[0m\u001b[0;34m)\u001b[0m \u001b[0;32mas\u001b[0m \u001b[0mzip\u001b[0m\u001b[0;34m:\u001b[0m\u001b[0;34m\u001b[0m\u001b[0;34m\u001b[0m\u001b[0m\n\u001b[0m\u001b[1;32m      5\u001b[0m     \u001b[0mzip\u001b[0m\u001b[0;34m.\u001b[0m\u001b[0mprintdir\u001b[0m\u001b[0;34m(\u001b[0m\u001b[0;34m)\u001b[0m\u001b[0;34m\u001b[0m\u001b[0;34m\u001b[0m\u001b[0m\n\u001b[1;32m      6\u001b[0m     \u001b[0mzip\u001b[0m\u001b[0;34m.\u001b[0m\u001b[0mextractall\u001b[0m\u001b[0;34m(\u001b[0m\u001b[0;34m)\u001b[0m\u001b[0;34m\u001b[0m\u001b[0;34m\u001b[0m\u001b[0m\n",
      "\u001b[0;32m~/opt/anaconda3/envs/learn-env/lib/python3.8/zipfile.py\u001b[0m in \u001b[0;36m__init__\u001b[0;34m(self, file, mode, compression, allowZip64, compresslevel, strict_timestamps)\u001b[0m\n\u001b[1;32m   1249\u001b[0m             \u001b[0;32mwhile\u001b[0m \u001b[0;32mTrue\u001b[0m\u001b[0;34m:\u001b[0m\u001b[0;34m\u001b[0m\u001b[0;34m\u001b[0m\u001b[0m\n\u001b[1;32m   1250\u001b[0m                 \u001b[0;32mtry\u001b[0m\u001b[0;34m:\u001b[0m\u001b[0;34m\u001b[0m\u001b[0;34m\u001b[0m\u001b[0m\n\u001b[0;32m-> 1251\u001b[0;31m                     \u001b[0mself\u001b[0m\u001b[0;34m.\u001b[0m\u001b[0mfp\u001b[0m \u001b[0;34m=\u001b[0m \u001b[0mio\u001b[0m\u001b[0;34m.\u001b[0m\u001b[0mopen\u001b[0m\u001b[0;34m(\u001b[0m\u001b[0mfile\u001b[0m\u001b[0;34m,\u001b[0m \u001b[0mfilemode\u001b[0m\u001b[0;34m)\u001b[0m\u001b[0;34m\u001b[0m\u001b[0;34m\u001b[0m\u001b[0m\n\u001b[0m\u001b[1;32m   1252\u001b[0m                 \u001b[0;32mexcept\u001b[0m \u001b[0mOSError\u001b[0m\u001b[0;34m:\u001b[0m\u001b[0;34m\u001b[0m\u001b[0;34m\u001b[0m\u001b[0m\n\u001b[1;32m   1253\u001b[0m                     \u001b[0;32mif\u001b[0m \u001b[0mfilemode\u001b[0m \u001b[0;32min\u001b[0m \u001b[0mmodeDict\u001b[0m\u001b[0;34m:\u001b[0m\u001b[0;34m\u001b[0m\u001b[0;34m\u001b[0m\u001b[0m\n",
      "\u001b[0;31mFileNotFoundError\u001b[0m: [Errno 2] No such file or directory: './ZippedData/im.db.zip'"
     ]
    }
   ],
   "source": [
    "#Grabbing the data from imdb\n",
    "\n",
    "file_name = \"./ZippedData/im.db.zip\"\n",
    "with ZipFile(file_name, 'r') as zip:\n",
    "    zip.printdir()\n",
    "    zip.extractall()\n",
    "\n",
    "#Extracting table names\n",
    "con = sqlite3.connect(\"./im.db\")\n",
    "cur = con.cursor()\n",
    "\n",
    "cur.execute(\"\"\"SELECT name FROM sqlite_master  \n",
    "  WHERE type='table';\"\"\")\n",
    "cur.fetchall()"
   ]
  },
  {
   "cell_type": "code",
   "execution_count": null,
   "metadata": {
    "ExecuteTime": {
     "end_time": "2023-05-02T19:35:40.628399Z",
     "start_time": "2023-05-02T19:35:39.644Z"
    }
   },
   "outputs": [],
   "source": [
    "#All the tables I might work from\n",
    "\n",
    "#TheMovieDatabase\n",
    "tmdb = csv_files_dict[\"tmdb_movies_gz\"]\n",
    "\n",
    "#The Numbers\n",
    "tn = csv_files_dict[\"tn_movie_budgets_gz\"]\n",
    "\n",
    "#Box Office Mojo\n",
    "bom = csv_files_dict[\"bom_movie_gross_gz\"]\n",
    "\n",
    "#And all the individual tables from IMDB\n",
    "imdb_movie_basics = pd.DataFrame(data = \n",
    "                                 cur.execute(\"\"\"SELECT * \n",
    "                                 FROM movie_basics\"\"\"))\n",
    "\n",
    "imdb_akas = pd.DataFrame(data = \n",
    "                         cur.execute(\"\"\"SELECT * \n",
    "                         FROM movie_akas\"\"\"))\n",
    "\n",
    "imdb_known_for = pd.DataFrame(data = \n",
    "                              cur.execute(\"\"\"SELECT * \n",
    "                              FROM known_for\"\"\"))\n",
    "\n",
    "imdb_directors = pd.DataFrame(data = \n",
    "                              cur.execute(\"\"\"SELECT * \n",
    "                              FROM directors\"\"\"))\n",
    "\n",
    "imdb_writers = pd.DataFrame(data = \n",
    "                              cur.execute(\"\"\"SELECT * \n",
    "                              FROM writers\"\"\"))\n",
    "\n",
    "imdb_persons = pd.DataFrame(data = \n",
    "                              cur.execute(\"\"\"SELECT * \n",
    "                              FROM persons\"\"\"))"
   ]
  },
  {
   "cell_type": "markdown",
   "metadata": {},
   "source": [
    "Since my goal is to find what movies are profitable and not what movies are well-reviewed, I'm ignoring the ratings-related files."
   ]
  },
  {
   "cell_type": "markdown",
   "metadata": {},
   "source": [
    "# Merging all the data\n",
    "\n",
    "Everything we need is spread out amongst a few different dataframes. So we're going to stick them all together and then cut out what we don't need. \n",
    "\n",
    "There are three general categories of information I want to look at: the finances, the genre, and who worked on it. Lastly, we should also stick with modern movies... whatever that means."
   ]
  },
  {
   "cell_type": "markdown",
   "metadata": {},
   "source": [
    "\n",
    "## Lining the numbers up\n",
    "\n",
    "The data from \"the-numbers\" needs a little cleaning to turn it into something useful. But it has all the financial data that we're going to using as our measure of \"success\"."
   ]
  },
  {
   "cell_type": "code",
   "execution_count": null,
   "metadata": {
    "ExecuteTime": {
     "end_time": "2023-05-02T19:35:40.629020Z",
     "start_time": "2023-05-02T19:35:39.647Z"
    },
    "scrolled": true
   },
   "outputs": [],
   "source": [
    "tn.head()"
   ]
  },
  {
   "cell_type": "code",
   "execution_count": null,
   "metadata": {
    "ExecuteTime": {
     "end_time": "2023-05-02T19:35:40.629690Z",
     "start_time": "2023-05-02T19:35:39.649Z"
    }
   },
   "outputs": [],
   "source": [
    "#Making a dedicated \"year\" column\n",
    "tn[\"year\"] = tn[\"release_date\"].map(lambda x: x[-4:])\n",
    "\n",
    "#Turning budget and gross into integers from strings\n",
    "tn[\"budget\"] = tn[\"production_budget\"].map(\n",
    "    lambda x: x.replace(\"$\", \"\")).map(lambda x: x.replace(\n",
    "    \",\",\"\")).map(lambda x: int(x))\n",
    "\n",
    "tn[\"world_gross\"] = tn[\"worldwide_gross\"].map(\n",
    "    lambda x: x.replace(\"$\", \"\")).map(lambda x: x.replace(\n",
    "    \",\",\"\")).map(lambda x: int(x))\n",
    "\n",
    "#Dropping unecessary columns\n",
    "tn.drop([\"production_budget\",\"worldwide_gross\"\n",
    "       , \"domestic_gross\", \"release_date\"], 1, inplace = True)\n",
    "\n",
    "#Dropping any duplicate entries.\n",
    "tn.drop_duplicates(inplace = True)"
   ]
  },
  {
   "cell_type": "markdown",
   "metadata": {},
   "source": [
    "Now to get the first number I really want: profits! (This will be the difference between worldwide gross and budget)"
   ]
  },
  {
   "cell_type": "code",
   "execution_count": null,
   "metadata": {
    "ExecuteTime": {
     "end_time": "2023-05-02T19:35:40.630270Z",
     "start_time": "2023-05-02T19:35:39.651Z"
    },
    "scrolled": true
   },
   "outputs": [],
   "source": [
    "tn[\"profits\"] = tn[\"world_gross\"] - tn[\"budget\"]\n",
    "#And, let's just see what the most profitable movies of all time were\n",
    "tn.sort_values(\"profits\", ascending = False).head(15)"
   ]
  },
  {
   "cell_type": "markdown",
   "metadata": {},
   "source": [
    "Awful lot of Marvel and other Disney products on there. Practically half of the top 15.\n",
    "\n",
    "Now there's no easy way to parse how much of that has to do with Marvel's branding or how much of it has to do with Marvel's quality. But it's in the dataset nonetheless.\n"
   ]
  },
  {
   "cell_type": "markdown",
   "metadata": {},
   "source": [
    "## Getting a sense of style\n",
    "\n",
    "I bet that most people's first answer to \"What kind of movie should you make?\" is a genre. So lets get those analyzed."
   ]
  },
  {
   "cell_type": "markdown",
   "metadata": {},
   "source": [
    "How are the genres labeled?"
   ]
  },
  {
   "cell_type": "code",
   "execution_count": null,
   "metadata": {
    "ExecuteTime": {
     "end_time": "2023-05-02T19:35:40.630896Z",
     "start_time": "2023-05-02T19:35:39.653Z"
    }
   },
   "outputs": [],
   "source": [
    "pd.read_sql(\"\"\"SELECT genres\n",
    "            FROM movie_basics\"\"\", con)"
   ]
  },
  {
   "cell_type": "markdown",
   "metadata": {},
   "source": [
    "It turns out that each entry is a list, but each list has only one element which is just a *single string* with all of the genres written down all at once. Or it is NoneType object (like the penultimate entry above). They will each require attention to handle properly."
   ]
  },
  {
   "cell_type": "code",
   "execution_count": null,
   "metadata": {
    "ExecuteTime": {
     "end_time": "2023-05-02T19:35:40.631395Z",
     "start_time": "2023-05-02T19:35:39.654Z"
    }
   },
   "outputs": [],
   "source": [
    "#Isolating the genre column from IMDB, turning the rows into a list of lists\n",
    "genre_column = (pd.read_sql(\"\"\"SELECT genres\n",
    "                            FROM movie_basics\"\"\", con).values.tolist())\n",
    "#Transforming that into a set\n",
    "all_genres = []\n",
    "for batch in genre_column:\n",
    "        if batch[0]: #Skips over the \"None\" entries\n",
    "            genres = batch[0].split(\",\") #Unpacking the genres for each movie\n",
    "            for genre in genres:\n",
    "                if genre in all_genres:\n",
    "                    continue\n",
    "                else:\n",
    "                    all_genres.append(genre)\n",
    "all_genres"
   ]
  },
  {
   "cell_type": "markdown",
   "metadata": {},
   "source": [
    "We're going to have to make each genre into its own column if we're going to get anywhere."
   ]
  },
  {
   "cell_type": "code",
   "execution_count": null,
   "metadata": {
    "ExecuteTime": {
     "end_time": "2023-05-02T19:35:40.632012Z",
     "start_time": "2023-05-02T19:35:39.655Z"
    }
   },
   "outputs": [],
   "source": [
    "#The \"movie_basics\" table will be one of our final three tables to merge.\n",
    "movie_basics = pd.read_sql(\"\"\"SELECT *\n",
    "            FROM movie_basics\"\"\", con)\n",
    "\n",
    "#Making genre columns, filling with 0s to start\n",
    "for genre in all_genres:\n",
    "    movie_basics[genre] = 0\n",
    "\n",
    "#Filling in rows that have no genres\n",
    "movie_basics[\"genres\"].fillna(value = \"?\", inplace = True)\n",
    "\n",
    "#Function to assign genre label\n",
    "def is_genre(df,genre):\n",
    "    df.loc[(df.genres.str.contains(genre)), genre]=1\n",
    "    return df\n",
    "\n",
    "#Looping through\n",
    "for x in all_genres:\n",
    "    is_genre(movie_basics,x)\n",
    "    \n",
    "movie_basics.head()"
   ]
  },
  {
   "cell_type": "markdown",
   "metadata": {},
   "source": [
    "Mwah! Just to orient myself, let's see what the most common genres are."
   ]
  },
  {
   "cell_type": "code",
   "execution_count": null,
   "metadata": {
    "ExecuteTime": {
     "end_time": "2023-05-02T19:35:40.632523Z",
     "start_time": "2023-05-02T19:35:39.657Z"
    }
   },
   "outputs": [],
   "source": [
    "movie_basics[all_genres].sum().sort_values(ascending = False)"
   ]
  },
  {
   "cell_type": "markdown",
   "metadata": {},
   "source": [
    "Wow! There was no way that I would have guessed that documentaries would be king, but I understand in retrospect."
   ]
  },
  {
   "cell_type": "markdown",
   "metadata": {},
   "source": [
    "## Asking for Direction\n",
    "In my experience, a director makes or breaks a movie as much as any actor, maybe even moreso."
   ]
  },
  {
   "cell_type": "code",
   "execution_count": null,
   "metadata": {
    "ExecuteTime": {
     "end_time": "2023-05-02T19:35:40.633202Z",
     "start_time": "2023-05-02T19:35:39.658Z"
    }
   },
   "outputs": [],
   "source": [
    "#Making DF from the directors table\n",
    "directors = pd.read_sql(\"\"\"SELECT person_id, movie_id, primary_name\n",
    "            FROM directors\n",
    "            LEFT JOIN persons\n",
    "            USING(person_id)\n",
    "            \"\"\",con)\n",
    "\n",
    "#There were duplicates, for some reason.\n",
    "directors.drop_duplicates(inplace = True)\n",
    "#And a couple Nas\n",
    "directors.dropna(inplace = True)\n",
    "directors.reset_index(inplace = True)\n",
    "directors"
   ]
  },
  {
   "cell_type": "markdown",
   "metadata": {},
   "source": [
    "For fun, I decided to see who are the most common directors."
   ]
  },
  {
   "cell_type": "code",
   "execution_count": null,
   "metadata": {
    "ExecuteTime": {
     "end_time": "2023-05-02T19:35:40.633812Z",
     "start_time": "2023-05-02T19:35:39.660Z"
    }
   },
   "outputs": [],
   "source": [
    "directors.value_counts(\"primary_name\").head(10)"
   ]
  },
  {
   "cell_type": "markdown",
   "metadata": {},
   "source": [
    "Well that's odd, maybe they directed a lot of foreign films...\n",
    "*Checks Google*\n",
    "...Nope! Omer Pasha directs music videos.\n",
    "\n",
    "I'll have to make sure my finalists are movie directors in particular.\n",
    "\n",
    "Come to think of it, I'm surprised to not see Speilberg in the top 10. What does the database say?"
   ]
  },
  {
   "cell_type": "code",
   "execution_count": null,
   "metadata": {
    "ExecuteTime": {
     "end_time": "2023-05-02T19:35:40.634542Z",
     "start_time": "2023-05-02T19:35:39.661Z"
    }
   },
   "outputs": [],
   "source": [
    "directors.value_counts(\"primary_name\")[\"Steven Spielberg\"]"
   ]
  },
  {
   "cell_type": "markdown",
   "metadata": {},
   "source": [
    "*NINE?* \n",
    "It was here that I had thought I did something very wrong. But, thankfully, it turns out that the IMDB data is only from 2010 forward.<br> Phew."
   ]
  },
  {
   "cell_type": "markdown",
   "metadata": {},
   "source": [
    "I suppose that's it for this step. Next, I'll join them all together before cutting out the smaller and older films."
   ]
  },
  {
   "cell_type": "markdown",
   "metadata": {},
   "source": [
    "# Finalizing the dataset"
   ]
  },
  {
   "cell_type": "markdown",
   "metadata": {},
   "source": [
    "## Stitching it together\n",
    "First, I think it would be easy to sew the director table onto \"movie basics\" since they share an obvious column: movie_id."
   ]
  },
  {
   "cell_type": "code",
   "execution_count": null,
   "metadata": {
    "ExecuteTime": {
     "end_time": "2023-05-02T19:35:40.635153Z",
     "start_time": "2023-05-02T19:35:39.663Z"
    },
    "scrolled": true
   },
   "outputs": [],
   "source": [
    "movies_directors = movie_basics.merge(directors, on = \"movie_id\",\n",
    "                                      how = \"left\")\n",
    "movies_directors.drop(\"index\", axis = 1, inplace = True)\n",
    "movies_directors"
   ]
  },
  {
   "cell_type": "code",
   "execution_count": null,
   "metadata": {
    "ExecuteTime": {
     "end_time": "2023-05-02T19:35:40.635771Z",
     "start_time": "2023-05-02T19:35:39.665Z"
    }
   },
   "outputs": [],
   "source": [
    "#Now to combine the movies/directors with the finacnes from TheNumbers.\n",
    "tn.rename(columns = {\"movie\": \"primary_title\"}, inplace = True)\n",
    "big_data = tn.merge(movies_directors, on = \"primary_title\", how = \"inner\")\n",
    "big_data.drop_duplicates(inplace=True)\n",
    "\n",
    "#Oddly, \"start year\" and \"year\" columns disagree.\n",
    "#And 'start year' is often a later year for some reason\n",
    "big_data.drop([\"start_year\", \"original_title\", \"runtime_minutes\"], \n",
    "              inplace = True, axis = 1)\n",
    "big_data"
   ]
  },
  {
   "cell_type": "markdown",
   "metadata": {},
   "source": [
    "## Cutting the chaff\n",
    "All of the movies I want are going to be less than 10 years old. However, I'm going to have to remove all the entries from 2020 and 2021 due to the pandemic.\n",
    "\n",
    "Pre-pandemic, the average movie released in theaters made 12,487,209 in the US, so I think it'll be a fair starting point to say that in order for a movie to be \"relevant\" to my project, it has to have made over half of that."
   ]
  },
  {
   "cell_type": "code",
   "execution_count": null,
   "metadata": {
    "ExecuteTime": {
     "end_time": "2023-05-02T19:35:40.636400Z",
     "start_time": "2023-05-02T19:35:39.666Z"
    }
   },
   "outputs": [],
   "source": [
    "#For some reason the year entries were strings.\n",
    "big_data.year = big_data.year.astype(int)\n",
    "\n",
    "#Limiting to relevant times and finances\n",
    "trim_data = big_data[(big_data[\"year\"] > 2013) & (big_data[\"year\"] < 2020) &\n",
    "                     (big_data[\"world_gross\"] > 6000000)]\n",
    "\n",
    "trim_data"
   ]
  },
  {
   "cell_type": "markdown",
   "metadata": {},
   "source": [
    "There are actually a lot of duplicates in this dataset. Why? Because movies with multiple directors are showing up as multiple entries.\n",
    "\n",
    "I can foresee this being useful, so we'll keep this dataset with multiple directors as well as one where the duplications are cut out."
   ]
  },
  {
   "cell_type": "code",
   "execution_count": null,
   "metadata": {
    "ExecuteTime": {
     "end_time": "2023-05-02T19:35:40.637309Z",
     "start_time": "2023-05-02T19:35:39.668Z"
    }
   },
   "outputs": [],
   "source": [
    "trim_no_d = trim_data.drop_duplicates(subset = [\"year\", \"primary_title\"])\n",
    "trim_no_d"
   ]
  },
  {
   "cell_type": "code",
   "execution_count": null,
   "metadata": {
    "ExecuteTime": {
     "end_time": "2023-05-02T19:35:40.638143Z",
     "start_time": "2023-05-02T19:35:39.669Z"
    }
   },
   "outputs": [],
   "source": [
    "#One last thing to check.\n",
    "#trim_no_d.primary_name.value_counts()[\"Omer Pasha\"]"
   ]
  },
  {
   "cell_type": "markdown",
   "metadata": {},
   "source": [
    "Good."
   ]
  },
  {
   "cell_type": "markdown",
   "metadata": {},
   "source": [
    "# Measurements"
   ]
  },
  {
   "cell_type": "markdown",
   "metadata": {},
   "source": [
    "## Picking the Medium\n",
    "This part should be straightforward. Animation or Live Action?"
   ]
  },
  {
   "cell_type": "code",
   "execution_count": null,
   "metadata": {
    "ExecuteTime": {
     "end_time": "2023-05-02T19:35:40.638941Z",
     "start_time": "2023-05-02T19:35:39.671Z"
    }
   },
   "outputs": [],
   "source": [
    "#Getting the mean and median profits for animated and live action movies. \n",
    "live_mean_profits = trim_no_d[trim_no_d[\"Animation\"] == 0][\"profits\"].mean()\n",
    "ani_mean_profits = trim_no_d[trim_no_d[\"Animation\"] == 1][\"profits\"].mean()\n",
    "\n",
    "live_median_profits = trim_no_d[trim_no_d[\"Animation\"] == 0\n",
    "                               ][\"profits\"].median()\n",
    "ani_median_profits = trim_no_d[trim_no_d[\"Animation\"] == 1\n",
    "                              ][\"profits\"].median()"
   ]
  },
  {
   "cell_type": "code",
   "execution_count": null,
   "metadata": {
    "ExecuteTime": {
     "end_time": "2023-05-02T19:35:40.639713Z",
     "start_time": "2023-05-02T19:35:39.671Z"
    }
   },
   "outputs": [],
   "source": [
    "from matplotlib import ticker\n",
    "\n",
    "#Preparing the formatting of my graphs\n",
    "plt.rc('font', size=11)          # controls default text sizes\n",
    "plt.rc('axes', titlesize=11)     # fontsize of the axes title\n",
    "plt.rc('axes', labelsize=12)    # fontsize of the x and y labels\n",
    "plt.rc('xtick', labelsize=14)    # fontsize of the tick labels\n",
    "plt.rc('ytick', labelsize=11)    # fontsize of the tick labels\n",
    "plt.rc('legend', fontsize=11)    # legend fontsize\n",
    "plt.rc('figure', titlesize=14)  # fontsize of the figure title\n",
    "\n",
    "fig, ax = plt.subplots(figsize=(7, 6))\n",
    "\n",
    "plt.xlabel(\"Style\", fontsize=13)\n",
    "plt.ylabel(\"Profits\", fontsize=14)\n",
    "plt.title(\"Animation vs Live Action (Median Profits)\", fontsize=14)\n",
    "\n",
    "#Formatting the y-axis to be in dollars\n",
    "ax.yaxis.set_major_locator(ticker.MultipleLocator(40000000.00))\n",
    "ax.yaxis.set_minor_locator(ticker.MultipleLocator(10000000))\n",
    "ax.yaxis.set_major_formatter(ticker.StrMethodFormatter('${x:,.0f}'))\n",
    "\n",
    "ax = plt.bar([\"Live_Action_Profits\", \"Animated_Profits\"], \n",
    "        [live_median_profits, ani_median_profits])"
   ]
  },
  {
   "cell_type": "code",
   "execution_count": null,
   "metadata": {
    "ExecuteTime": {
     "end_time": "2023-05-02T19:35:40.640515Z",
     "start_time": "2023-05-02T19:35:39.672Z"
    }
   },
   "outputs": [],
   "source": [
    "fig, ax = plt.subplots(figsize=(7, 6))\n",
    "\n",
    "plt.xlabel(\"Style\", fontsize=13)\n",
    "plt.ylabel(\"Profits\", fontsize=14)\n",
    "plt.title(\"Animation vs Live Action (Mean Profits)\", fontsize=14)\n",
    "\n",
    "ax.yaxis.set_major_locator(ticker.MultipleLocator(40000000.00))\n",
    "ax.yaxis.set_minor_locator(ticker.MultipleLocator(10000000))\n",
    "ax.yaxis.set_major_formatter(ticker.StrMethodFormatter('${x:,.0f}'))\n",
    "\n",
    "ax = plt.bar([\"Live_Action_Profits\", \"Animated_Profits\"], \n",
    "        [live_mean_profits, ani_mean_profits])"
   ]
  },
  {
   "cell_type": "markdown",
   "metadata": {},
   "source": [
    "Well that's not even close! Animated movies are almost three times as profitable by mean, and nearly *quintuple* be median! One suggestion down, two to go."
   ]
  },
  {
   "cell_type": "markdown",
   "metadata": {},
   "source": [
    "Just how common are animated movies, anyway?"
   ]
  },
  {
   "cell_type": "code",
   "execution_count": null,
   "metadata": {
    "ExecuteTime": {
     "end_time": "2023-05-02T19:35:40.641173Z",
     "start_time": "2023-05-02T19:35:39.673Z"
    }
   },
   "outputs": [],
   "source": [
    "print(\"There are\", len(trim_no_d[trim_no_d[\"Animation\"] == 1]),\n",
    "      \"animated movies\")\n",
    "print(\"There are\", len(trim_no_d[trim_no_d[\"Animation\"] == 0]),\n",
    "      \"live action movies\")\n",
    "print(\"That's\",(len(trim_no_d[trim_no_d[\"Animation\"] == 1]))/(\n",
    "    len(trim_no_d[trim_no_d[\"Animation\"] == 1])+\n",
    "    len(trim_no_d[trim_no_d[\"Animation\"] == 0])), \"percent\")"
   ]
  },
  {
   "cell_type": "markdown",
   "metadata": {},
   "source": [
    "Okay, so that's a fair enough sample."
   ]
  },
  {
   "cell_type": "markdown",
   "metadata": {},
   "source": [
    "## Picking the Director"
   ]
  },
  {
   "cell_type": "markdown",
   "metadata": {},
   "source": [
    "I'll get a look at the most profitable directors by both mean and median, then choose from among those the ones with the largest catalogs."
   ]
  },
  {
   "cell_type": "code",
   "execution_count": null,
   "metadata": {
    "ExecuteTime": {
     "end_time": "2023-05-02T19:35:40.641690Z",
     "start_time": "2023-05-02T19:35:39.676Z"
    }
   },
   "outputs": [],
   "source": [
    "#Profits Mean, top 15\n",
    "trim_data.groupby(\"primary_name\").mean().sort_values(\n",
    "    \"profits\", ascending = False).head(15)"
   ]
  },
  {
   "cell_type": "code",
   "execution_count": null,
   "metadata": {
    "ExecuteTime": {
     "end_time": "2023-05-02T19:35:40.642379Z",
     "start_time": "2023-05-02T19:35:39.677Z"
    },
    "scrolled": false
   },
   "outputs": [],
   "source": [
    "#Profits Median\n",
    "trim_data.groupby(\"primary_name\").median().sort_values(\n",
    "    \"profits\", ascending = False).head(15)"
   ]
  },
  {
   "cell_type": "markdown",
   "metadata": {},
   "source": [
    "Clearly there's a bunch of overlap, and I am going to take just the directors whose names appear in both lists."
   ]
  },
  {
   "cell_type": "code",
   "execution_count": null,
   "metadata": {
    "ExecuteTime": {
     "end_time": "2023-05-02T19:35:40.642941Z",
     "start_time": "2023-05-02T19:35:39.678Z"
    }
   },
   "outputs": [],
   "source": [
    "#Isolating just the top fifteen directors by each metric\n",
    "\n",
    "top_median_directors = trim_data.groupby(\"primary_name\").median().sort_values(\n",
    "    \"profits\", ascending = False).head(15).index\n",
    "\n",
    "top_mean_directors = trim_data.groupby(\"primary_name\").mean().sort_values(\n",
    "    \"profits\", ascending = False).head(15).index"
   ]
  },
  {
   "cell_type": "code",
   "execution_count": null,
   "metadata": {
    "ExecuteTime": {
     "end_time": "2023-05-02T19:35:40.643446Z",
     "start_time": "2023-05-02T19:35:39.679Z"
    }
   },
   "outputs": [],
   "source": [
    "#Creating the set of directors from both groups\n",
    "top_directors = [name for name in top_median_directors \n",
    "                 if name in top_mean_directors]\n",
    "top_directors"
   ]
  },
  {
   "cell_type": "code",
   "execution_count": null,
   "metadata": {
    "ExecuteTime": {
     "end_time": "2023-05-02T19:35:40.644292Z",
     "start_time": "2023-05-02T19:35:39.679Z"
    }
   },
   "outputs": [],
   "source": [
    "len(top_directors)"
   ]
  },
  {
   "cell_type": "markdown",
   "metadata": {},
   "source": [
    "Everyone was in both lists. Unexpected. That probably means a lot of people only have 1 qualified movie to their name."
   ]
  },
  {
   "cell_type": "code",
   "execution_count": null,
   "metadata": {
    "ExecuteTime": {
     "end_time": "2023-05-02T19:35:40.644837Z",
     "start_time": "2023-05-02T19:35:39.680Z"
    }
   },
   "outputs": [],
   "source": [
    "#making dfs that are grouped by mean and median\n",
    "interim_mean = trim_data.groupby(\"primary_name\").mean()\n",
    "interim_median = trim_data.groupby(\"primary_name\").median()\n",
    "\n",
    "#selecting only the top 15 directors\n",
    "top_director_interim_mean = interim_mean[\n",
    "    interim_mean.index.isin(top_directors)]\n",
    "top_director_interim_median = interim_median[\n",
    "    interim_median.index.isin(top_directors)]\n",
    "\n",
    "#sorting and isolating the profits column\n",
    "d_means = top_director_interim_mean.sort_values(\n",
    "    \"profits\", ascending = False)[\"profits\"]\n",
    "d_medians = top_director_interim_median.sort_values(\n",
    "    \"profits\", ascending = False)[\"profits\"]"
   ]
  },
  {
   "cell_type": "code",
   "execution_count": null,
   "metadata": {
    "ExecuteTime": {
     "end_time": "2023-05-02T19:35:40.645636Z",
     "start_time": "2023-05-02T19:35:39.681Z"
    }
   },
   "outputs": [],
   "source": [
    "#Graphing the best of those results\n",
    "fig, ax = plt.subplots(nrows =1, figsize = (11,7))\n",
    "\n",
    "plt.ylabel(\"Profits\", fontsize=14)\n",
    "\n",
    "ax.yaxis.set_major_locator(ticker.MultipleLocator(250000000))\n",
    "ax.yaxis.set_minor_locator(ticker.MultipleLocator(50000000))\n",
    "ax.yaxis.set_major_formatter(ticker.StrMethodFormatter('${x:,.0f}'))\n",
    "\n",
    "ax.bar(d_means.head(9).index, d_means.head(9))\n",
    "\n",
    "ax.set_title(\"Mean Profit by Director\", fontsize = 13)\n",
    "\n",
    "ax.tick_params(axis = \"x\", labelrotation = 50)"
   ]
  },
  {
   "cell_type": "code",
   "execution_count": null,
   "metadata": {
    "ExecuteTime": {
     "end_time": "2023-05-02T19:35:40.646423Z",
     "start_time": "2023-05-02T19:35:39.682Z"
    }
   },
   "outputs": [],
   "source": [
    "#Graphing those\n",
    "fig, ax = plt.subplots(nrows =1, figsize = (11,7))\n",
    "\n",
    "plt.ylabel(\"Profits\", fontsize=14)\n",
    "\n",
    "ax.yaxis.set_major_locator(ticker.MultipleLocator(250000000))\n",
    "ax.yaxis.set_minor_locator(ticker.MultipleLocator(50000000))\n",
    "ax.yaxis.set_major_formatter(ticker.StrMethodFormatter('${x:,.0f}'))\n",
    "\n",
    "ax.bar(d_medians.head(10).index, d_medians.head(10))\n",
    "\n",
    "ax.set_title(\"Median Profit by Director\", fontsize = 13)\n",
    "\n",
    "ax.tick_params(axis = \"x\", labelrotation = 50)"
   ]
  },
  {
   "cell_type": "markdown",
   "metadata": {},
   "source": [
    "There really doesn't seem to be that big of a difference the further down the list we go. Surprisingly, the Russos (of Avengers: Endgame fame) fall out of the top 10 using the median.\n",
    "\n",
    "How many movies these directors have made?"
   ]
  },
  {
   "cell_type": "code",
   "execution_count": null,
   "metadata": {
    "ExecuteTime": {
     "end_time": "2023-05-02T19:35:40.647161Z",
     "start_time": "2023-05-02T19:35:39.682Z"
    },
    "scrolled": true
   },
   "outputs": [],
   "source": [
    "for name in top_directors:\n",
    "    print(name, trim_data.primary_name.tolist().count(name))"
   ]
  },
  {
   "cell_type": "markdown",
   "metadata": {
    "ExecuteTime": {
     "end_time": "2023-04-27T02:02:07.411208Z",
     "start_time": "2023-04-27T02:02:07.405358Z"
    }
   },
   "source": [
    "Ah, so the reason why the median scores are what they are is because so many of these filmmakers have only one qualifying flick. Even with this many candidates, only the Russos stand out with three relevant movies in the last 10 years. Even though they fell out of the top 10 by median, they were still able to even qualify for this list in the first place despite their second and third place movies being less impressive.\n",
    "\n",
    "As for the other directors who had multiple films that qualified:<br>\n",
    "James Wan directed The Conjuring and Aquaman<br>\n",
    "Kyle Balda directed two of the correctly-maligned Minions movies<br>\n",
    "and Pierre Coffin... also directed two Minions movies.\n",
    "\n",
    "Colin Treverrow was the leader on both lists with one movie. Luckily for us, that film *was* both an Adventure and Sci-Fi movie, making him a very defensible choice.\n",
    "\n",
    "All in all, I'd still give it to the Russo Brothers, because they've done it more consistently. But it's probably debatable. It may be impossible to know how much of their success just has to do with the momentum Marvel supplies just by brand recognition."
   ]
  },
  {
   "cell_type": "markdown",
   "metadata": {},
   "source": [
    "## Picking the genre\n",
    "I'm going to make a dataframe that's just made up of the profits (mean and median) for each genre."
   ]
  },
  {
   "cell_type": "code",
   "execution_count": null,
   "metadata": {
    "ExecuteTime": {
     "end_time": "2023-05-02T19:35:40.647688Z",
     "start_time": "2023-05-02T19:35:39.683Z"
    }
   },
   "outputs": [],
   "source": [
    "#Preparing lists for my DF's columns\n",
    "g_net_mean = []\n",
    "g_net_median = []\n",
    "g_count = []\n",
    "#Filling those lists\n",
    "all_genres.remove(\"Animation\")\n",
    "for genre in all_genres:\n",
    "        g_net_mean.append(trim_no_d[trim_no_d[genre] == 1][\"profits\"].mean())\n",
    "        g_net_median.append(\n",
    "            trim_no_d[trim_no_d[genre] == 1][\"profits\"].median())\n",
    "        g_count.append(len(trim_no_d[trim_no_d[genre] ==1]))"
   ]
  },
  {
   "cell_type": "code",
   "execution_count": null,
   "metadata": {
    "ExecuteTime": {
     "end_time": "2023-05-02T19:35:40.648360Z",
     "start_time": "2023-05-02T19:35:39.684Z"
    }
   },
   "outputs": [],
   "source": [
    "#Birthing the DataFrame\n",
    "df_genres = pd.DataFrame()\n",
    "df_genres[\"genre\"] = all_genres\n",
    "df_genres[\"count\"] = g_count\n",
    "df_genres[\"net_mean\"] = g_net_mean\n",
    "df_genres[\"net_median\"] = g_net_median\n",
    "df_genres.head()"
   ]
  },
  {
   "cell_type": "markdown",
   "metadata": {},
   "source": [
    "Now we isolate the sorted data for the profit columns."
   ]
  },
  {
   "cell_type": "code",
   "execution_count": null,
   "metadata": {
    "ExecuteTime": {
     "end_time": "2023-05-02T19:35:40.649002Z",
     "start_time": "2023-05-02T19:35:39.685Z"
    }
   },
   "outputs": [],
   "source": [
    "g_means = df_genres.sort_values(\"net_mean\", ascending = False).head(10)\n",
    "g_medians = df_genres.sort_values(\"net_median\", ascending = False).head(10)"
   ]
  },
  {
   "cell_type": "code",
   "execution_count": null,
   "metadata": {
    "ExecuteTime": {
     "end_time": "2023-05-02T19:35:40.649587Z",
     "start_time": "2023-05-02T19:35:39.686Z"
    }
   },
   "outputs": [],
   "source": [
    "g_means"
   ]
  },
  {
   "cell_type": "code",
   "execution_count": null,
   "metadata": {
    "ExecuteTime": {
     "end_time": "2023-05-02T19:35:40.650287Z",
     "start_time": "2023-05-02T19:35:39.686Z"
    }
   },
   "outputs": [],
   "source": [
    "g_medians"
   ]
  },
  {
   "cell_type": "markdown",
   "metadata": {},
   "source": [
    "Musicals take the gold medal?\n",
    "Well, with only 2 representatives, I think it's fair to say that it's not exactly a tried and true formula for success. \n",
    "\n",
    "So, we'll take a closer look at the silver and bronze finalists instead: Sci-Fi and Adventure."
   ]
  },
  {
   "cell_type": "markdown",
   "metadata": {},
   "source": [
    "We can first make sure that outliers aren't driving the data, and we can also see if these genres are buoyed by data from the early 2010s."
   ]
  },
  {
   "cell_type": "code",
   "execution_count": null,
   "metadata": {
    "ExecuteTime": {
     "end_time": "2023-05-02T19:35:40.650854Z",
     "start_time": "2023-05-02T19:35:39.687Z"
    },
    "scrolled": false
   },
   "outputs": [],
   "source": [
    "#Making a box blot of just the top genres\n",
    "genre_cols = [\"Adventure\", \"Sci-Fi\", \"Action\",\n",
    "              \"Fantasy\", \"Family\", \"Comedy\", \"Thriller\"]\n",
    "boxplot_boxes = []\n",
    "for genre in genre_cols:\n",
    "    boxplot_boxes.append(trim_no_d[trim_no_d[genre] == 1][\"profits\"])\n",
    "plt.boxplot(boxplot_boxes, vert = False, showfliers = False, labels =\n",
    "            genre_cols)\n",
    "plt.axvline();"
   ]
  },
  {
   "cell_type": "markdown",
   "metadata": {},
   "source": [
    "While a little over 20% of our sample of Sci-Fi and Adventure movies lose money, it seems like many of the genres share this fate. And this boxplot has its outliers filtered out, so the big blockbusters are not solely responsible for these two pulling ahead."
   ]
  },
  {
   "cell_type": "code",
   "execution_count": null,
   "metadata": {
    "ExecuteTime": {
     "end_time": "2023-05-02T19:35:40.651496Z",
     "start_time": "2023-05-02T19:35:39.688Z"
    }
   },
   "outputs": [],
   "source": [
    "#Grouped bar graph, using Action as the control\n",
    "fig, ax = plt.subplots()\n",
    "\n",
    "ax.yaxis.set_major_locator(ticker.MultipleLocator(100000000))\n",
    "ax.yaxis.set_minor_locator(ticker.MultipleLocator(50000000))\n",
    "ax.yaxis.set_major_formatter(ticker.StrMethodFormatter('${x:,.0f}'))\n",
    "\n",
    "x = np.arange(6)\n",
    "y1 = trim_no_d[(trim_no_d[\"Sci-Fi\"] == 1)].groupby('year').mean()[\"profits\"]\n",
    "y2 = trim_no_d[(trim_no_d[\"Adventure\"] == 1)].groupby(\n",
    "    'year').mean()[\"profits\"]\n",
    "y3 = trim_no_d[(trim_no_d[\"Action\"] == 1)].groupby('year').mean()[\"profits\"]\n",
    "width = 0.2\n",
    "  \n",
    "plt.bar(x-0.2, y1, width, color='mediumslateblue')\n",
    "plt.bar(x, y2, width, color='indianred')\n",
    "plt.bar(x+0.2, y3, width, color='mediumseagreen')\n",
    "plt.xticks(x, [2014, 2015, 2016, 2017, 2018, 2019])\n",
    "plt.xlabel(\"Years\", fontsize = 12)\n",
    "plt.ylabel(\"Profits\", fontsize = 14)\n",
    "plt.legend([\"Sci-Fi\", \"Adventure\", \"Action\"])\n",
    "plt.title(\"Mean Profits of Genres by Year\", fontsize = 14)\n",
    "plt.show()"
   ]
  },
  {
   "cell_type": "code",
   "execution_count": null,
   "metadata": {
    "ExecuteTime": {
     "end_time": "2023-05-02T19:35:40.652064Z",
     "start_time": "2023-05-02T19:35:39.689Z"
    }
   },
   "outputs": [],
   "source": [
    "#Why check by eye when we have math?\n",
    "#Getting the Correlation Coefficient\n",
    "np.corrcoef(y1, [2014, 2015, 2016, 2017, 2018, 2019])"
   ]
  },
  {
   "cell_type": "markdown",
   "metadata": {},
   "source": [
    "Seems good to me. Let's just graph the overall means and medians now."
   ]
  },
  {
   "cell_type": "code",
   "execution_count": null,
   "metadata": {
    "ExecuteTime": {
     "end_time": "2023-05-02T19:35:40.652627Z",
     "start_time": "2023-05-02T19:35:39.690Z"
    },
    "scrolled": true
   },
   "outputs": [],
   "source": [
    "fig, (ax1, ax2) = plt.subplots(ncols = 2, figsize = (15, 4))\n",
    "\n",
    "#ax1.yaxis.set_major_locator(ticker.MultipleLocator(500000000))\n",
    "#ax1.yaxis.set_minor_locator(ticker.MultipleLocator(250000000))\n",
    "#ax1.yaxis.set_major_formatter(ticker.StrMethodFormatter('${x:,.0f}'))\n",
    "\n",
    "#ax2.yaxis.set_major_locator(ticker.MultipleLocator(500000000))\n",
    "#ax2.yaxis.set_minor_locator(ticker.MultipleLocator(250000000))\n",
    "#ax2.yaxis.set_major_formatter(ticker.StrMethodFormatter('${x:,.0f}'))\n",
    "\n",
    "#The bars will be colored based on whether the sample is high or low\n",
    "colors1 = []\n",
    "colors2 = []\n",
    "\n",
    "for n in g_means[\"count\"]:\n",
    "    if n >= 30:\n",
    "        colors1.append(\"mediumslateblue\") #blue if 30 or higher\n",
    "    else:\n",
    "        colors1.append(\"indianred\") #red if less than 30\n",
    "        \n",
    "for n in g_medians[\"count\"]:\n",
    "    if n >= 30:\n",
    "        colors2.append(\"mediumslateblue\")\n",
    "    else:\n",
    "        colors2.append(\"indianred\")\n",
    "\n",
    "genre_mean = g_means[\"net_mean\"]\n",
    "genre_median = g_medians[\"net_median\"]\n",
    "\n",
    "ax1.set_ylabel(\"Hundreds of Millions\", fontsize = 11)\n",
    "ax2.set_ylabel(\"Hundreds of Millions\")\n",
    "\n",
    "ax1.set_title(\"Mean Profit by Genre\", fontsize = 14)\n",
    "ax2.set_title(\"Median Profit by Genre\")\n",
    "\n",
    "ax1.tick_params(axis = \"x\", labelrotation = 50)\n",
    "ax2.tick_params(axis = \"x\", labelrotation = 50)\n",
    "\n",
    "#Creating the legend with its colors\n",
    "import matplotlib.lines as mlines\n",
    "low = mlines.Line2D([], [], color='indianred', \n",
    "                      marker='D', ls='', label='Num Movies in Sample < 30')\n",
    "high = mlines.Line2D([], [], color='mediumslateblue', \n",
    "                     marker='D', ls='', label='Num Movies in Sample >= 30')\n",
    "ax1.legend(handles=[low, high])\n",
    "ax2.legend(handles=[low, high])\n",
    "\n",
    "ax1.bar(g_means[\"genre\"], genre_mean, color = colors1)\n",
    "ax2.bar(g_medians[\"genre\"], genre_median, color = colors2)"
   ]
  },
  {
   "cell_type": "markdown",
   "metadata": {},
   "source": [
    "# So what do we conclude?\n",
    "Putting it all together, I'm actually very pleased with the results."
   ]
  },
  {
   "cell_type": "markdown",
   "metadata": {},
   "source": [
    "Action and comedy are \"ok\", but I think that it would be wise to separate this project from a Marvel style movie. I'd suggest focusing on the two core genres to further make this film distinct from the competition.\n",
    "\n",
    "So Microsoft could set itself apart with an *Animated Sci-Fi Adventure directed by the Russo Brothers*, perhaps with a more serious edge. If they turn it down, get Colin Treverrow. Failing that, James Wan will do.\n",
    "\n",
    "I'd watch that."
   ]
  },
  {
   "cell_type": "markdown",
   "metadata": {},
   "source": [
    "## Limitations, Recommendations, Next Steps\n",
    "It's important to note that, again, the movie business was gutted during the two Covid-stricken years. In fact, it's still hasn't fully rebounded. So data about current movie trends might be out of date, and releasing a movie very soon might not even be the best idea (depending on how much longer the recovery will take.)\n",
    "\n",
    "\n",
    "Probably the most obvious places we didn't look in the data would be at both actors and writers. However, slightly less intuitively important might be to see if the release date (or even the release day of the week) matters. It may be worth looking at each of those, although it is probably hard to determine what actors to use without knowing what the roles and tone of the final product will be."
   ]
  }
 ],
 "metadata": {
  "kernelspec": {
   "display_name": "Python (learn-env)",
   "language": "python",
   "name": "learn-env"
  },
  "language_info": {
   "codemirror_mode": {
    "name": "ipython",
    "version": 3
   },
   "file_extension": ".py",
   "mimetype": "text/x-python",
   "name": "python",
   "nbconvert_exporter": "python",
   "pygments_lexer": "ipython3",
   "version": "3.8.5"
  },
  "toc": {
   "base_numbering": 1,
   "nav_menu": {},
   "number_sections": true,
   "sideBar": true,
   "skip_h1_title": false,
   "title_cell": "Table of Contents",
   "title_sidebar": "Contents",
   "toc_cell": false,
   "toc_position": {},
   "toc_section_display": true,
   "toc_window_display": false
  },
  "varInspector": {
   "cols": {
    "lenName": 16,
    "lenType": 16,
    "lenVar": 40
   },
   "kernels_config": {
    "python": {
     "delete_cmd_postfix": "",
     "delete_cmd_prefix": "del ",
     "library": "var_list.py",
     "varRefreshCmd": "print(var_dic_list())"
    },
    "r": {
     "delete_cmd_postfix": ") ",
     "delete_cmd_prefix": "rm(",
     "library": "var_list.r",
     "varRefreshCmd": "cat(var_dic_list()) "
    }
   },
   "types_to_exclude": [
    "module",
    "function",
    "builtin_function_or_method",
    "instance",
    "_Feature"
   ],
   "window_display": false
  }
 },
 "nbformat": 4,
 "nbformat_minor": 4
}
